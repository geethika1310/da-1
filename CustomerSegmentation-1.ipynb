{
 "cells": [
  {
   "cell_type": "markdown",
   "metadata": {},
   "source": [
    "<h1><center>Customer Segmentation Using RFM Analysis in Python</center></h1>\n",
    "\n",
    "Retail industry, an early adopter of data warehousing, has largely benefited from the capacity and capability of data warehouses such as Teradata, Oracle, etc. to host an exceptionally large amount of data. On the daily basis, colossal amount of data is generated across the stores.\n",
    "The main purpose of storing such a huge amount of data is to analyse the behaviour of customers and make strategies accordingly in order to drive more profits. But the amount of data generated is so huge that it makes any analysis a very difficult task.\n",
    "This project will demonstrate how customers can be segmented in different segment along with the code in Python."
   ]
  },
  {
   "cell_type": "markdown",
   "metadata": {},
   "source": [
    "# Dataset \n",
    "For my analysis I am using a sample dataset from a retail customer dataset containg sales data for 1 year containing around 541909 observations with 8 features variables.\n",
    "The link to the dataset can be found here:- http://archive.ics.uci.edu/ml/machine-learning-databases/00352/\n",
    "\n",
    "\n"
   ]
  },
  {
   "cell_type": "code",
   "execution_count": 1,
   "metadata": {
    "collapsed": true
   },
   "outputs": [],
   "source": [
    "# importing all the packages required for the data analysis\n",
    "import pandas as pd\n",
    "import numpy as np\n",
    "import matplotlib.pyplot as plt\n",
    "import seaborn as sns\n",
    "color = sns.color_palette()\n",
    "from IPython.display import display, HTML"
   ]
  },
  {
   "cell_type": "code",
   "execution_count": 2,
   "metadata": {
    "collapsed": true
   },
   "outputs": [],
   "source": [
    "# loading the dataset:\n",
    "df = pd.read_excel('/Users/deepanshparab/Downloads/Online Retail.xlsx')\n"
   ]
  },
  {
   "cell_type": "code",
   "execution_count": 3,
   "metadata": {},
   "outputs": [
    {
     "name": "stdout",
     "output_type": "stream",
     "text": [
      "  InvoiceNo StockCode                          Description  Quantity  \\\n",
      "0    536365    85123A   WHITE HANGING HEART T-LIGHT HOLDER         6   \n",
      "1    536365     71053                  WHITE METAL LANTERN         6   \n",
      "2    536365    84406B       CREAM CUPID HEARTS COAT HANGER         8   \n",
      "3    536365    84029G  KNITTED UNION FLAG HOT WATER BOTTLE         6   \n",
      "4    536365    84029E       RED WOOLLY HOTTIE WHITE HEART.         6   \n",
      "5    536365     22752         SET 7 BABUSHKA NESTING BOXES         2   \n",
      "6    536365     21730    GLASS STAR FROSTED T-LIGHT HOLDER         6   \n",
      "7    536366     22633               HAND WARMER UNION JACK         6   \n",
      "8    536366     22632            HAND WARMER RED POLKA DOT         6   \n",
      "9    536367     84879        ASSORTED COLOUR BIRD ORNAMENT        32   \n",
      "\n",
      "          InvoiceDate  UnitPrice  CustomerID         Country  \n",
      "0 2010-12-01 08:26:00       2.55     17850.0  United Kingdom  \n",
      "1 2010-12-01 08:26:00       3.39     17850.0  United Kingdom  \n",
      "2 2010-12-01 08:26:00       2.75     17850.0  United Kingdom  \n",
      "3 2010-12-01 08:26:00       3.39     17850.0  United Kingdom  \n",
      "4 2010-12-01 08:26:00       3.39     17850.0  United Kingdom  \n",
      "5 2010-12-01 08:26:00       7.65     17850.0  United Kingdom  \n",
      "6 2010-12-01 08:26:00       4.25     17850.0  United Kingdom  \n",
      "7 2010-12-01 08:28:00       1.85     17850.0  United Kingdom  \n",
      "8 2010-12-01 08:28:00       1.85     17850.0  United Kingdom  \n",
      "9 2010-12-01 08:34:00       1.69     13047.0  United Kingdom  \n"
     ]
    },
    {
     "data": {
      "text/plain": [
       "(541909, 8)"
      ]
     },
     "execution_count": 3,
     "metadata": {},
     "output_type": "execute_result"
    }
   ],
   "source": [
    "print(df.head(10))\n",
    "# looking at the shape of the dataset\n",
    "df.shape"
   ]
  },
  {
   "cell_type": "markdown",
   "metadata": {},
   "source": [
    "# Data Explorations:\n",
    "Columns Description :\n",
    "* InvoiceNo : Unique ID for every time a consumer visits the store\n",
    "* StockCode: Unique ID for a product\n",
    "* Description : Description of the product\n",
    "* Quantity : No of units bought\n",
    "* InvoiceDate : Date and time of purchase\n",
    "* Unit Price : Price for 1 unit of the product\n",
    "* CustomerId : Unique ID for each customer\n",
    "* Country : Country where transaction happened\n",
    "\n",
    "    "
   ]
  },
  {
   "cell_type": "markdown",
   "metadata": {},
   "source": [
    "Also for our analysis we need to calculate the total sales for each product by multiplying Quantity with Unit Price. Also,  convert Invoice Date in YYYYMM format.\n"
   ]
  },
  {
   "cell_type": "code",
   "execution_count": 77,
   "metadata": {},
   "outputs": [
    {
     "data": {
      "text/plain": [
       "date\n",
       "201012    42481\n",
       "201101    35147\n",
       "201102    27707\n",
       "201103    36748\n",
       "201104    29916\n",
       "201105    37030\n",
       "201106    36874\n",
       "201107    39518\n",
       "201108    35284\n",
       "201109    50226\n",
       "201110    60742\n",
       "201111    84711\n",
       "201112    25525\n",
       "dtype: int64"
      ]
     },
     "execution_count": 77,
     "metadata": {},
     "output_type": "execute_result"
    }
   ],
   "source": [
    "df['Total_Price'] = df['UnitPrice']*df['Quantity']\n",
    "\n",
    "tst = df.groupby(['InvoiceDate','InvoiceNo'])\n",
    "        \n",
    "tst.size()\n",
    "\n",
    "# converting \n",
    "df['date'] = df['InvoiceDate'].map(lambda x: 100*x.year + x.month)\n",
    "\n",
    "tst = df.groupby(['date'])\n",
    "tst.size()"
   ]
  },
  {
   "cell_type": "code",
   "execution_count": 78,
   "metadata": {},
   "outputs": [
    {
     "data": {
      "image/png": "[encoded data removed]",
      "text/plain": [
       "<matplotlib.figure.Figure at 0x1a2098ce10>"
      ]
     },
     "metadata": {},
     "output_type": "display_data"
    }
   ],
   "source": [
    "# checking country-wise sales \n",
    "Cust_country=df[['Country','CustomerID']].drop_duplicates()\n",
    "\n",
    "#Calculating the distinct count of customer for each country\n",
    "Cust_country_count=Cust_country.groupby(['Country'])['CustomerID'].\\\n",
    "aggregate('count').reset_index().sort_values('CustomerID', ascending=False)\n",
    "\n",
    "#Plotting the count of customers\n",
    "country=list(Cust_country_count['Country'])\n",
    "Cust_id=list(Cust_country_count['CustomerID'])\n",
    "plt.figure(figsize=(12,8))\n",
    "sns.barplot(country, Cust_id, alpha=0.8, color=color[2])\n",
    "plt.xticks(rotation='60')\n",
    "plt.show()"
   ]
  },
  {
   "cell_type": "markdown",
   "metadata": {},
   "source": [
    "It can be seen from the graph that around 90% of the customers exist in United Kingdom only followed by Germany and France. Hence, the company should focus on the United Kingdom for it marketing and other strategies."
   ]
  },
  {
   "cell_type": "markdown",
   "metadata": {},
   "source": [
    "Now we will start with the RFM analysis. I tagged each customer on a scale of 1 to 5 for each of the criterion where 5 will be the highest and 1 will be the lowest tagging. The customers on the top of all the three criterion will be the most significant customers.\n",
    "### RFM (Recency, Frequency, Monetary) analysis\n",
    "RFM criterion is one of the oldest and most widely used technique for selecting the most significant customers. It supports the selection of customers that are most recent (R), frequent (F), and add a larger monetary value (M) in every transaction.\n",
    "* Recency (R): Recency is the most important predictor of who is more likely to respond to an offer. Customers who have purchased recently are more likely to purchase again when compared to those who did not purchase recently.\n",
    "To tag the customers on the basis of recency flag, we will first filter the customers of United Kingdom and take distinct dates of their purchase.\n"
   ]
  },
  {
   "cell_type": "markdown",
   "metadata": {},
   "source": []
  },
  {
   "cell_type": "code",
   "execution_count": 79,
   "metadata": {
    "collapsed": true
   },
   "outputs": [],
   "source": [
    "\n",
    "Cust_date_UK=df[df['Country']=='United Kingdom']\n",
    "Cust_date_UK=Cust_date_UK[['CustomerID','date']].drop_duplicates()\n",
    "\n"
   ]
  },
  {
   "cell_type": "markdown",
   "metadata": {},
   "source": [
    "I tagged the customers from 1 to 5 in steps of 2 months i.e. 5 if customer bought in last 2 months else 4 if made a purchase in last 4 months and so on. Finally for a customer, maximum of the recency flag is taken as final recency flag."
   ]
  },
  {
   "cell_type": "code",
   "execution_count": 80,
   "metadata": {},
   "outputs": [
    {
     "data": {
      "text/html": [
       "<div>\n",
       "<style>\n",
       "    .dataframe thead tr:only-child th {\n",
       "        text-align: right;\n",
       "    }\n",
       "\n",
       "    .dataframe thead th {\n",
       "        text-align: left;\n",
       "    }\n",
       "\n",
       "    .dataframe tbody tr th {\n",
       "        vertical-align: top;\n",
       "    }\n",
       "</style>\n",
       "<table border=\"1\" class=\"dataframe\">\n",
       "  <thead>\n",
       "    <tr style=\"text-align: right;\">\n",
       "      <th></th>\n",
       "      <th>CustomerID</th>\n",
       "      <th>date</th>\n",
       "      <th>Recency_Flag</th>\n",
       "    </tr>\n",
       "  </thead>\n",
       "  <tbody>\n",
       "    <tr>\n",
       "      <th>0</th>\n",
       "      <td>17850.0</td>\n",
       "      <td>201012</td>\n",
       "      <td>1</td>\n",
       "    </tr>\n",
       "    <tr>\n",
       "      <th>9</th>\n",
       "      <td>13047.0</td>\n",
       "      <td>201012</td>\n",
       "      <td>1</td>\n",
       "    </tr>\n",
       "    <tr>\n",
       "      <th>46</th>\n",
       "      <td>13748.0</td>\n",
       "      <td>201012</td>\n",
       "      <td>1</td>\n",
       "    </tr>\n",
       "    <tr>\n",
       "      <th>65</th>\n",
       "      <td>15100.0</td>\n",
       "      <td>201012</td>\n",
       "      <td>1</td>\n",
       "    </tr>\n",
       "    <tr>\n",
       "      <th>82</th>\n",
       "      <td>15291.0</td>\n",
       "      <td>201012</td>\n",
       "      <td>1</td>\n",
       "    </tr>\n",
       "  </tbody>\n",
       "</table>\n",
       "</div>"
      ],
      "text/plain": [
       "    CustomerID    date  Recency_Flag\n",
       "0      17850.0  201012             1\n",
       "9      13047.0  201012             1\n",
       "46     13748.0  201012             1\n",
       "65     15100.0  201012             1\n",
       "82     15291.0  201012             1"
      ]
     },
     "execution_count": 80,
     "metadata": {},
     "output_type": "execute_result"
    }
   ],
   "source": [
    "\n",
    "def recency(row):\n",
    "    if row['date']>201110:\n",
    "        val = 5\n",
    "    elif row['date'] <= 201110 and row['date'] > 201108:\n",
    "        val = 4\n",
    "    elif row['date'] <= 201108 and row['date'] > 201106:\n",
    "        val = 3\n",
    "    elif row['date'] <= 201106 and row['date'] > 201104:\n",
    "        val = 2\n",
    "    else:\n",
    "        val = 1\n",
    "    return val\n",
    "\n",
    "Cust_date_UK['Recency_Flag'] = Cust_date_UK.apply(recency, axis=1)\n",
    "Cust_date_UK.head()   \n",
    "\n"
   ]
  },
  {
   "cell_type": "code",
   "execution_count": 81,
   "metadata": {},
   "outputs": [
    {
     "data": {
      "text/plain": [
       "Recency_Flag\n",
       "1    4014\n",
       "2    1930\n",
       "3    1768\n",
       "4    2464\n",
       "5    2167\n",
       "dtype: int64"
      ]
     },
     "execution_count": 81,
     "metadata": {},
     "output_type": "execute_result"
    }
   ],
   "source": [
    "tst = Cust_date_UK.groupby('Recency_Flag')\n",
    "tst.size()"
   ]
  },
  {
   "cell_type": "markdown",
   "metadata": {},
   "source": [
    "It can be seen that around <b>2200</b> customers out of 3900 customers have purchased in last 2 months. Note that some customers have not visited the store in last 4–8 months. To regain that lost customer base, business should look out for the reasons why these customers stop visiting the stores.\n"
   ]
  },
  {
   "cell_type": "markdown",
   "metadata": {},
   "source": [
    "### Frequency (F):\n",
    "The second most important factor is how frequently these customers purchase. The higher the frequency, the higher is the chances of these responding to the offers.\n",
    "To tag the customers on the basis of frequency flag, we will take country wise count of distinct invoice number for each customer and then filter out the customers of United Kingdom.\n",
    "After that, invoice count will be split into 5 equal parts to rank the customers on a scale of 1 to 5 where 5 being the most frequent.\n"
   ]
  },
  {
   "cell_type": "code",
   "execution_count": 82,
   "metadata": {},
   "outputs": [],
   "source": [
    "Cust_freq=df[['Country','InvoiceNo','CustomerID']].drop_duplicates()\n",
    "Cust_freq.head()\n",
    "\n",
    "#Calculating the count of unique purchase for each customer and his buying freq in descending order\n",
    "Cust_freq_count=Cust_freq.groupby(['Country','CustomerID'])['InvoiceNo'].aggregate('count').\\\n",
    "reset_index().sort_values('InvoiceNo', ascending=False)\n",
    "\n",
    "\n",
    "Cust_freq_count_UK=Cust_freq_count[Cust_freq_count['Country']=='United Kingdom']\n",
    "Cust_freq_count_UK.head()\n",
    "unique_invoice=Cust_freq_count_UK[['InvoiceNo']].drop_duplicates()\n",
    "\n",
    "\n"
   ]
  },
  {
   "cell_type": "code",
   "execution_count": 83,
   "metadata": {},
   "outputs": [
    {
     "data": {
      "text/html": [
       "<div>\n",
       "<style>\n",
       "    .dataframe thead tr:only-child th {\n",
       "        text-align: right;\n",
       "    }\n",
       "\n",
       "    .dataframe thead th {\n",
       "        text-align: left;\n",
       "    }\n",
       "\n",
       "    .dataframe tbody tr th {\n",
       "        vertical-align: top;\n",
       "    }\n",
       "</style>\n",
       "<table border=\"1\" class=\"dataframe\">\n",
       "  <thead>\n",
       "    <tr style=\"text-align: right;\">\n",
       "      <th></th>\n",
       "      <th>Freqency_Band</th>\n",
       "    </tr>\n",
       "  </thead>\n",
       "  <tbody>\n",
       "    <tr>\n",
       "      <th>428</th>\n",
       "      <td>(55.0, 224.0]</td>\n",
       "    </tr>\n",
       "    <tr>\n",
       "      <th>2017</th>\n",
       "      <td>(38.0, 55.0]</td>\n",
       "    </tr>\n",
       "    <tr>\n",
       "      <th>2031</th>\n",
       "      <td>(25.0, 38.0]</td>\n",
       "    </tr>\n",
       "    <tr>\n",
       "      <th>4057</th>\n",
       "      <td>(13.0, 25.0]</td>\n",
       "    </tr>\n",
       "    <tr>\n",
       "      <th>2856</th>\n",
       "      <td>(0.999, 13.0]</td>\n",
       "    </tr>\n",
       "  </tbody>\n",
       "</table>\n",
       "</div>"
      ],
      "text/plain": [
       "      Freqency_Band\n",
       "428   (55.0, 224.0]\n",
       "2017   (38.0, 55.0]\n",
       "2031   (25.0, 38.0]\n",
       "4057   (13.0, 25.0]\n",
       "2856  (0.999, 13.0]"
      ]
     },
     "execution_count": 83,
     "metadata": {},
     "output_type": "execute_result"
    }
   ],
   "source": [
    "# Dividing in 5 equal parts\n",
    "unique_invoice['Freqency_Band'] = pd.qcut(unique_invoice['InvoiceNo'], 5)\n",
    "unique_invoice=unique_invoice[['Freqency_Band']].drop_duplicates()\n",
    "unique_invoice\n",
    "\n"
   ]
  },
  {
   "cell_type": "code",
   "execution_count": 84,
   "metadata": {},
   "outputs": [
    {
     "name": "stderr",
     "output_type": "stream",
     "text": [
      "/Users/deepanshparab/anaconda3/lib/python3.6/site-packages/ipykernel/__main__.py:14: SettingWithCopyWarning: \n",
      "A value is trying to be set on a copy of a slice from a DataFrame.\n",
      "Try using .loc[row_indexer,col_indexer] = value instead\n",
      "\n",
      "See the caveats in the documentation: http://pandas.pydata.org/pandas-docs/stable/indexing.html#indexing-view-versus-copy\n"
     ]
    }
   ],
   "source": [
    "def frequency(row):\n",
    "    if row['InvoiceNo'] <= 13:\n",
    "        val = 1\n",
    "    elif row['InvoiceNo'] > 13 and row['InvoiceNo'] <= 25:\n",
    "        val = 2\n",
    "    elif row['InvoiceNo'] > 25 and row['InvoiceNo'] <= 38:\n",
    "        val = 3\n",
    "    elif row['InvoiceNo'] > 38 and row['InvoiceNo'] <= 55:\n",
    "        val = 4\n",
    "    else:\n",
    "        val = 5\n",
    "    return val\n",
    "\n",
    "Cust_freq_count_UK['Freq_Flag'] = Cust_freq_count_UK.apply(frequency, axis=1)\n"
   ]
  },
  {
   "cell_type": "code",
   "execution_count": 85,
   "metadata": {},
   "outputs": [
    {
     "data": {
      "text/plain": [
       "Freq_Flag\n",
       "1    3669\n",
       "2     192\n",
       "3      51\n",
       "4      25\n",
       "5      13\n",
       "dtype: int64"
      ]
     },
     "execution_count": 85,
     "metadata": {},
     "output_type": "execute_result"
    }
   ],
   "source": [
    "#Let us check the distribution of Frequency flags:\n",
    "Cust_freq_count_UK.groupby(['Freq_Flag']).size()\n"
   ]
  },
  {
   "cell_type": "code",
   "execution_count": 86,
   "metadata": {},
   "outputs": [
    {
     "data": {
      "image/png": "[encoded data removed]",
      "text/plain": [
       "<matplotlib.figure.Figure at 0x1a2219b048>"
      ]
     },
     "metadata": {},
     "output_type": "display_data"
    }
   ],
   "source": [
    "plt.figure(figsize=(12,8))\n",
    "sns.countplot(x='Freq_Flag', data=Cust_freq_count_UK, color=color[1])\n",
    "plt.ylabel('Count', fontsize=12)\n",
    "plt.xlabel('Freq_Flag', fontsize=12)\n",
    "plt.xticks(rotation='vertical')\n",
    "plt.title('Frequency of Freq_Flag', fontsize=15)\n",
    "plt.show()"
   ]
  },
  {
   "cell_type": "markdown",
   "metadata": {},
   "source": [
    "### Monetary Value (M): \n",
    "The third factor is the amount of money these customers have spent on purchases. Customers who have spent higher contribute more value to the business as compared to those who have spent less.\n",
    "To tag the customers on the basis of monetary flag, we will take country wise sum of Total price for each customer and then filter out the customers of United Kingdom."
   ]
  },
  {
   "cell_type": "code",
   "execution_count": 87,
   "metadata": {},
   "outputs": [],
   "source": [
    "#Calculating the Sum of total monetary purchase for each customer\n",
    "\n",
    "Cust_monetary = df.groupby(['Country','CustomerID'])['Total_Price'].aggregate('sum').\\\n",
    "reset_index().sort_values('Total_Price', ascending=False)\n",
    "Cust_monetary_UK=Cust_monetary[Cust_monetary['Country']=='United Kingdom']\n"
   ]
  },
  {
   "cell_type": "markdown",
   "metadata": {},
   "source": [
    "Notice that there are some negative values in the total price column. This is the case because when a customer returns the product it purchased, it is stored as a negative value in the quantity column.\n",
    "Before splitting Total price in 5 parts, we will remove these negative quantities."
   ]
  },
  {
   "cell_type": "code",
   "execution_count": 88,
   "metadata": {},
   "outputs": [
    {
     "data": {
      "text/html": [
       "<div>\n",
       "<style>\n",
       "    .dataframe thead tr:only-child th {\n",
       "        text-align: right;\n",
       "    }\n",
       "\n",
       "    .dataframe thead th {\n",
       "        text-align: left;\n",
       "    }\n",
       "\n",
       "    .dataframe tbody tr th {\n",
       "        vertical-align: top;\n",
       "    }\n",
       "</style>\n",
       "<table border=\"1\" class=\"dataframe\">\n",
       "  <thead>\n",
       "    <tr style=\"text-align: right;\">\n",
       "      <th></th>\n",
       "      <th>monetary_Band</th>\n",
       "    </tr>\n",
       "  </thead>\n",
       "  <tbody>\n",
       "    <tr>\n",
       "      <th>4237</th>\n",
       "      <td>(1932.504, 256438.49]</td>\n",
       "    </tr>\n",
       "    <tr>\n",
       "      <th>1959</th>\n",
       "      <td>(892.136, 1932.504]</td>\n",
       "    </tr>\n",
       "    <tr>\n",
       "      <th>930</th>\n",
       "      <td>(463.248, 892.136]</td>\n",
       "    </tr>\n",
       "    <tr>\n",
       "      <th>1877</th>\n",
       "      <td>(243.046, 463.248]</td>\n",
       "    </tr>\n",
       "    <tr>\n",
       "      <th>2879</th>\n",
       "      <td>(-0.000999999999988, 243.046]</td>\n",
       "    </tr>\n",
       "  </tbody>\n",
       "</table>\n",
       "</div>"
      ],
      "text/plain": [
       "                      monetary_Band\n",
       "4237          (1932.504, 256438.49]\n",
       "1959            (892.136, 1932.504]\n",
       "930              (463.248, 892.136]\n",
       "1877             (243.046, 463.248]\n",
       "2879  (-0.000999999999988, 243.046]"
      ]
     },
     "execution_count": 88,
     "metadata": {},
     "output_type": "execute_result"
    }
   ],
   "source": [
    "unique_price=Cust_monetary_UK[['Total_Price']].drop_duplicates()\n",
    "unique_price=unique_price[unique_price['Total_Price'] > 0]\n",
    "unique_price['monetary_Band'] = pd.qcut(unique_price['Total_Price'], 5)\n",
    "unique_price=unique_price[['monetary_Band']].drop_duplicates()\n",
    "unique_price"
   ]
  },
  {
   "cell_type": "code",
   "execution_count": 89,
   "metadata": {},
   "outputs": [
    {
     "name": "stderr",
     "output_type": "stream",
     "text": [
      "/Users/deepanshparab/anaconda3/lib/python3.6/site-packages/ipykernel/__main__.py:13: SettingWithCopyWarning: \n",
      "A value is trying to be set on a copy of a slice from a DataFrame.\n",
      "Try using .loc[row_indexer,col_indexer] = value instead\n",
      "\n",
      "See the caveats in the documentation: http://pandas.pydata.org/pandas-docs/stable/indexing.html#indexing-view-versus-copy\n"
     ]
    }
   ],
   "source": [
    "def monetary(row):\n",
    "    if row['Total_Price'] <= 243:\n",
    "        val = 1\n",
    "    elif row['Total_Price'] > 243 and row['Total_Price'] <= 463:\n",
    "        val = 2\n",
    "    elif row['Total_Price'] > 463 and row['Total_Price'] <= 892:\n",
    "        val = 3\n",
    "    elif row['Total_Price'] > 892 and row['Total_Price'] <= 1932:\n",
    "        val = 4\n",
    "    else:\n",
    "        val = 5\n",
    "    return val\n",
    "Cust_monetary_UK['Monetary_Flag'] = Cust_monetary_UK.apply(monetary, axis=1)\n"
   ]
  },
  {
   "cell_type": "code",
   "execution_count": 90,
   "metadata": {},
   "outputs": [
    {
     "data": {
      "text/plain": [
       "Monetary_Flag\n",
       "1    842\n",
       "2    784\n",
       "3    778\n",
       "4    773\n",
       "5    773\n",
       "dtype: int64"
      ]
     },
     "execution_count": 90,
     "metadata": {},
     "output_type": "execute_result"
    }
   ],
   "source": [
    "# Let us check the distribution of Monetary flags:\n",
    "Cust_monetary_UK.groupby(['Monetary_Flag']).size()"
   ]
  },
  {
   "cell_type": "code",
   "execution_count": 91,
   "metadata": {},
   "outputs": [
    {
     "data": {
      "image/png": "[encoded data removed]",
      "text/plain": [
       "<matplotlib.figure.Figure at 0x1a25201048>"
      ]
     },
     "metadata": {},
     "output_type": "display_data"
    }
   ],
   "source": [
    "plt.figure(figsize=(12,8))\n",
    "sns.countplot(x='Monetary_Flag', data=Cust_monetary_UK, color=color[1])\n",
    "plt.ylabel('Count', fontsize=12)\n",
    "plt.xlabel('Monetary_Flag', fontsize=12)\n",
    "plt.xticks(rotation='vertical')\n",
    "plt.title('Frequency of Monetary_Flag', fontsize=15)\n",
    "plt.show()"
   ]
  },
  {
   "cell_type": "markdown",
   "metadata": {},
   "source": [
    "There is an almost equal distribution of customers as far as monetary value is concerned.\n"
   ]
  },
  {
   "cell_type": "code",
   "execution_count": 92,
   "metadata": {},
   "outputs": [
    {
     "data": {
      "text/html": [
       "<div>\n",
       "<style>\n",
       "    .dataframe thead tr:only-child th {\n",
       "        text-align: right;\n",
       "    }\n",
       "\n",
       "    .dataframe thead th {\n",
       "        text-align: left;\n",
       "    }\n",
       "\n",
       "    .dataframe tbody tr th {\n",
       "        vertical-align: top;\n",
       "    }\n",
       "</style>\n",
       "<table border=\"1\" class=\"dataframe\">\n",
       "  <thead>\n",
       "    <tr style=\"text-align: right;\">\n",
       "      <th></th>\n",
       "      <th>CustomerID</th>\n",
       "      <th>Recency_Flag</th>\n",
       "      <th>Freq_Flag</th>\n",
       "      <th>Monetary_Flag_x</th>\n",
       "      <th>Monetary_Flag_y</th>\n",
       "    </tr>\n",
       "  </thead>\n",
       "  <tbody>\n",
       "    <tr>\n",
       "      <th>0</th>\n",
       "      <td>12346.0</td>\n",
       "      <td>1</td>\n",
       "      <td>1</td>\n",
       "      <td>1</td>\n",
       "      <td>1</td>\n",
       "    </tr>\n",
       "    <tr>\n",
       "      <th>1</th>\n",
       "      <td>12747.0</td>\n",
       "      <td>5</td>\n",
       "      <td>1</td>\n",
       "      <td>5</td>\n",
       "      <td>5</td>\n",
       "    </tr>\n",
       "    <tr>\n",
       "      <th>2</th>\n",
       "      <td>12748.0</td>\n",
       "      <td>5</td>\n",
       "      <td>5</td>\n",
       "      <td>5</td>\n",
       "      <td>5</td>\n",
       "    </tr>\n",
       "    <tr>\n",
       "      <th>3</th>\n",
       "      <td>12749.0</td>\n",
       "      <td>5</td>\n",
       "      <td>1</td>\n",
       "      <td>5</td>\n",
       "      <td>5</td>\n",
       "    </tr>\n",
       "    <tr>\n",
       "      <th>4</th>\n",
       "      <td>12820.0</td>\n",
       "      <td>5</td>\n",
       "      <td>1</td>\n",
       "      <td>4</td>\n",
       "      <td>4</td>\n",
       "    </tr>\n",
       "    <tr>\n",
       "      <th>5</th>\n",
       "      <td>12821.0</td>\n",
       "      <td>2</td>\n",
       "      <td>1</td>\n",
       "      <td>1</td>\n",
       "      <td>1</td>\n",
       "    </tr>\n",
       "    <tr>\n",
       "      <th>6</th>\n",
       "      <td>12822.0</td>\n",
       "      <td>4</td>\n",
       "      <td>1</td>\n",
       "      <td>4</td>\n",
       "      <td>4</td>\n",
       "    </tr>\n",
       "    <tr>\n",
       "      <th>7</th>\n",
       "      <td>12823.0</td>\n",
       "      <td>4</td>\n",
       "      <td>1</td>\n",
       "      <td>4</td>\n",
       "      <td>4</td>\n",
       "    </tr>\n",
       "    <tr>\n",
       "      <th>8</th>\n",
       "      <td>12824.0</td>\n",
       "      <td>4</td>\n",
       "      <td>1</td>\n",
       "      <td>2</td>\n",
       "      <td>2</td>\n",
       "    </tr>\n",
       "    <tr>\n",
       "      <th>9</th>\n",
       "      <td>12826.0</td>\n",
       "      <td>5</td>\n",
       "      <td>1</td>\n",
       "      <td>4</td>\n",
       "      <td>4</td>\n",
       "    </tr>\n",
       "  </tbody>\n",
       "</table>\n",
       "</div>"
      ],
      "text/plain": [
       "   CustomerID  Recency_Flag  Freq_Flag  Monetary_Flag_x  Monetary_Flag_y\n",
       "0     12346.0             1          1                1                1\n",
       "1     12747.0             5          1                5                5\n",
       "2     12748.0             5          5                5                5\n",
       "3     12749.0             5          1                5                5\n",
       "4     12820.0             5          1                4                4\n",
       "5     12821.0             2          1                1                1\n",
       "6     12822.0             4          1                4                4\n",
       "7     12823.0             4          1                4                4\n",
       "8     12824.0             4          1                2                2\n",
       "9     12826.0             5          1                4                4"
      ]
     },
     "execution_count": 92,
     "metadata": {},
     "output_type": "execute_result"
    }
   ],
   "source": [
    "\n",
    "# Combining all the three flags :\n",
    "# Cust_UK_All=pd.merge(Cust_date_UK,Cust_freq_count_UK[['CustomerID','Freq_Flag']],\\\n",
    "# on=['CustomerID'],how='left')\n",
    "Cust_UK_All=pd.merge(Cust_UK_All,Cust_monetary_UK[['CustomerID','Monetary_Flag']],\\\n",
    "on=['CustomerID'],how='left')\n",
    "\n",
    "\n",
    "Cust_UK_All.head(10)\n",
    "\n",
    "\n",
    "\n"
   ]
  },
  {
   "cell_type": "markdown",
   "metadata": {},
   "source": [
    "### Analysis Report\n",
    "Based on business requirements, various cut-offs are imposed on each of the three parameters. After applying the cut-offs, customers can be classified mainly in three segments:\n",
    "* <b>Customers clearing all the three cut-offs</b> are the best and the most reliable customers. Business should focus on making customised promotional strategies and loyalty schemes for these customers in order to retain this valuable customer base.\n",
    "* <b>Customers failing the recency criterion only </b>are those customers who have stopped visiting the store. Business should focus on these customers and look out for the reason why they abandoned visiting the stores.\n",
    "* <b>Customers clearing the recency criterion but failing frequency criterion</b> are the new customers. Business should provide more incentives and offers to these customers and try to retain these new customers.\n",
    "Apart from segmenting customers, business can also use RFM criterion to filter out a reliable customer base and perform analysis like Market Basket Analysis to see customer buying pattern or assess the success of marketing strategies by analysing the response of these customers."
   ]
  },
  {
   "cell_type": "code",
   "execution_count": null,
   "metadata": {
    "collapsed": true
   },
   "outputs": [],
   "source": []
  }
 ],
 "metadata": {
  "kernelspec": {
   "display_name": "Python [conda root]",
   "language": "python",
   "name": "conda-root-py"
  },
  "language_info": {
   "codemirror_mode": {
    "name": "ipython",
    "version": 3
   },
   "file_extension": ".py",
   "mimetype": "text/x-python",
   "name": "python",
   "nbconvert_exporter": "python",
   "pygments_lexer": "ipython3",
   "version": "3.6.3"
  }
 },
 "nbformat": 4,
 "nbformat_minor": 2
}
